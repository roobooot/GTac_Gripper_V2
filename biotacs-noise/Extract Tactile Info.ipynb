{
 "cells": [
  {
   "cell_type": "code",
   "execution_count": 34,
   "metadata": {},
   "outputs": [],
   "source": [
    "import os\n",
    "import pandas as pd\n",
    "import numpy as np\n",
    "from scipy import stats\n",
    "\n",
    "import matplotlib.pyplot as plt\n",
    "%matplotlib inline"
   ]
  },
  {
   "cell_type": "code",
   "execution_count": 2,
   "metadata": {},
   "outputs": [],
   "source": [
    "csv_file = 'untouched.csv'"
   ]
  },
  {
   "cell_type": "code",
   "execution_count": 4,
   "metadata": {},
   "outputs": [
    {
     "name": "stdout",
     "output_type": "stream",
     "text": [
      "==============================\n",
      "('IN_FILE', 'untouched.csv')\n",
      "('OUT_FILE', 'untouched.npy')\n"
     ]
    }
   ],
   "source": [
    "IN_FILE = csv_file    \n",
    "OUT_FILE = 'untouched.npy'\n",
    "\n",
    "# The bag2csv script generates empty header names so the real\n",
    "# tactile values are stored in other columns\n",
    "FF_TAC_ATT = 'tdc'\n",
    "MF_TAC_ATT = 'tac.1'\n",
    "TH_TAC_ATT = 'pac0.4'\n",
    "\n",
    "FINGERS = 3\n",
    "ELECTRODES = 24\n",
    "\n",
    "# Read CSV and fill numpy object\n",
    "raw_df = pd.read_csv(IN_FILE)\n",
    "tactiles_df = raw_df[[FF_TAC_ATT, MF_TAC_ATT, TH_TAC_ATT]]\n",
    "tactiles_np = np.zeros([tactiles_df.shape[0], FINGERS, ELECTRODES], dtype=int)\n",
    "\n",
    "for index, row in tactiles_df.iterrows():\n",
    "    ff_values = row[FF_TAC_ATT]\n",
    "    ff_values = ff_values.replace('[', '').replace(']', '')\n",
    "    ff_values = [int(x) for x in ff_values.split(', ')]\n",
    "\n",
    "    mf_values = row[MF_TAC_ATT]\n",
    "    mf_values = mf_values.replace('[', '').replace(']', '')\n",
    "    mf_values = [int(x) for x in mf_values.split(', ')]\n",
    "\n",
    "    th_values = row[TH_TAC_ATT]\n",
    "    th_values = th_values.replace('[', '').replace(']', '')\n",
    "    th_values = [int(x) for x in th_values.split(', ')]\n",
    "\n",
    "    tactiles_np[index, 0, :] = ff_values\n",
    "    tactiles_np[index, 1, :] = mf_values\n",
    "    tactiles_np[index, 2, :] = th_values"
   ]
  },
  {
   "cell_type": "code",
   "execution_count": 17,
   "metadata": {},
   "outputs": [],
   "source": [
    "ff_np = np.reshape(tactiles_np[:, 0, :], (-1))\n",
    "mf_np = np.reshape(tactiles_np[:, 1, :], (-1))\n",
    "th_np = np.reshape(tactiles_np[:, 2, :], (-1))"
   ]
  },
  {
   "cell_type": "code",
   "execution_count": 69,
   "metadata": {},
   "outputs": [],
   "source": [
    "_, ff_min_max, ff_mean, ff_variance, _, _ = stats.describe(ff_np)\n",
    "ff_std = np.std(ff_np)"
   ]
  },
  {
   "cell_type": "code",
   "execution_count": 70,
   "metadata": {},
   "outputs": [],
   "source": [
    "_, mf_min_max, mf_mean, mf_variance, _, _ = stats.describe(mf_np)\n",
    "mf_std = np.std(mf_np)"
   ]
  },
  {
   "cell_type": "code",
   "execution_count": 72,
   "metadata": {},
   "outputs": [],
   "source": [
    "_, th_min_max, th_mean, th_variance, _, _ = stats.describe(th_np)\n",
    "th_std = np.std(th_np)"
   ]
  },
  {
   "cell_type": "code",
   "execution_count": 73,
   "metadata": {},
   "outputs": [],
   "source": [
    "mins = [ff_min_max[0], mf_min_max[0], th_min_max[0]]\n",
    "maxs = [ff_min_max[1], mf_min_max[1], th_min_max[1]]\n",
    "means = [ff_mean, mf_mean, th_mean]\n",
    "variances = [ff_variance, mf_variance, th_variance]\n",
    "stds = [ff_std, mf_std, th_std]\n",
    "\n",
    "inds = range(3)"
   ]
  },
  {
   "cell_type": "code",
   "execution_count": 81,
   "metadata": {},
   "outputs": [
    {
     "name": "stdout",
     "output_type": "stream",
     "text": [
      "Mins: [1607, 2616, 2383]\n"
     ]
    },
    {
     "data": {
      "image/png": "[encoded data removed]",
      "text/plain": [
       "<matplotlib.figure.Figure at 0x7f6915e6de50>"
      ]
     },
     "metadata": {},
     "output_type": "display_data"
    }
   ],
   "source": [
    "plt.bar(inds, mins, color=['red', 'green', 'cyan'])\n",
    "plt.ylim(0, 3750)\n",
    "\n",
    "plt.title('Min sensor value per finger')\n",
    "plt.xticks(inds, ('FF', 'MF', 'TH'))\n",
    "\n",
    "print 'Mins:', mins"
   ]
  },
  {
   "cell_type": "code",
   "execution_count": 82,
   "metadata": {},
   "outputs": [
    {
     "name": "stdout",
     "output_type": "stream",
     "text": [
      "Maxs: [3181, 3488, 3276]\n"
     ]
    },
    {
     "data": {
      "image/png": "[encoded data removed]",
      "text/plain": [
       "<matplotlib.figure.Figure at 0x7f6915cba450>"
      ]
     },
     "metadata": {},
     "output_type": "display_data"
    }
   ],
   "source": [
    "plt.bar(inds, maxs, color=['red', 'green', 'cyan'])\n",
    "plt.ylim(0, 3750)\n",
    "\n",
    "plt.title('Max sensor value per finger')\n",
    "plt.xticks(inds, ('FF', 'MF', 'TH'))\n",
    "\n",
    "print 'Maxs:', maxs"
   ]
  },
  {
   "cell_type": "code",
   "execution_count": 85,
   "metadata": {},
   "outputs": [
    {
     "name": "stdout",
     "output_type": "stream",
     "text": [
      "Means: [2815.290216649608, 3256.6313971340837, 2984.2897475264413]\n",
      "Stds: [287.00657538171123, 197.845728169163, 236.90013125285444]\n"
     ]
    },
    {
     "data": {
      "image/png": "[encoded data removed]",
      "text/plain": [
       "<matplotlib.figure.Figure at 0x7f6915af54d0>"
      ]
     },
     "metadata": {},
     "output_type": "display_data"
    }
   ],
   "source": [
    "plt.bar(inds, means, yerr=stds, color=['red', 'green', 'cyan'])\n",
    "plt.ylim(0, 3750)\n",
    "\n",
    "plt.title('Mean (+/ std) sensor value per finger')\n",
    "plt.xticks(inds, ('FF', 'MF', 'TH'))\n",
    "\n",
    "print 'Means:', means\n",
    "print 'Stds:', stds"
   ]
  },
  {
   "cell_type": "code",
   "execution_count": null,
   "metadata": {},
   "outputs": [],
   "source": []
  }
 ],
 "metadata": {
  "kernelspec": {
   "display_name": "Python 2",
   "language": "python",
   "name": "python2"
  },
  "language_info": {
   "codemirror_mode": {
    "name": "ipython",
    "version": 2
   },
   "file_extension": ".py",
   "mimetype": "text/x-python",
   "name": "python",
   "nbconvert_exporter": "python",
   "pygments_lexer": "ipython2",
   "version": "2.7.12"
  }
 },
 "nbformat": 4,
 "nbformat_minor": 2
}
